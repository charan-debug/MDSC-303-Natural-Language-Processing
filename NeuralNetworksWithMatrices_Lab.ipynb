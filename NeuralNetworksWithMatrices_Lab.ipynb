{
  "cells": [
    {
      "cell_type": "code",
      "execution_count": 1,
      "id": "17a6b2e0",
      "metadata": {
        "id": "17a6b2e0"
      },
      "outputs": [],
      "source": [
        "def permute(ll,l,n,r,k):\n",
        "    for i in range(n):\n",
        "        l[k]= i\n",
        "        if k < r-1:\n",
        "            permute(ll,l,n,r,k+1)\n",
        "        else:\n",
        "            ll.append(l.copy())"
      ]
    },
    {
      "cell_type": "code",
      "execution_count": 2,
      "id": "b623d4be",
      "metadata": {
        "colab": {
          "base_uri": "https://localhost:8080/"
        },
        "id": "b623d4be",
        "outputId": "818546c2-22a6-43b9-be3b-c4e5c7fbeafd"
      },
      "outputs": [
        {
          "output_type": "stream",
          "name": "stdout",
          "text": [
            "59049\n",
            "5\n"
          ]
        }
      ],
      "source": [
        "n= 9\n",
        "r= 5\n",
        "l= [0]*r\n",
        "ds=[]\n",
        "permute(ds,l,n,r,0)\n",
        "print(len(ds))\n",
        "print(len(ds[0]))"
      ]
    },
    {
      "cell_type": "code",
      "execution_count": 3,
      "id": "bb6b870d",
      "metadata": {
        "id": "bb6b870d"
      },
      "outputs": [],
      "source": [
        "def real(dp):\n",
        "    total= 0.0\n",
        "    sign= 1\n",
        "    for i in range(len(dp)):\n",
        "        total+= sign*dp[i]**(len(dp)-i)\n",
        "        if i % 2 == 0:\n",
        "            sign*= -1\n",
        "    return total"
      ]
    },
    {
      "cell_type": "code",
      "execution_count": 4,
      "id": "85cf04cd",
      "metadata": {
        "colab": {
          "base_uri": "https://localhost:8080/"
        },
        "id": "85cf04cd",
        "outputId": "639b6b08-91e6-4872-de3e-723530918fcb"
      },
      "outputs": [
        {
          "output_type": "stream",
          "name": "stdout",
          "text": [
            "34599 24450\n",
            "34599 24450\n"
          ]
        }
      ],
      "source": [
        "pos= 0\n",
        "neg= 0\n",
        "y= []\n",
        "for dp in ds:\n",
        "    g= real(dp)\n",
        "    if g < 0:\n",
        "        neg= neg+1\n",
        "        y.append(0)\n",
        "    else:\n",
        "        pos= pos+1\n",
        "        y.append(1)\n",
        "print(pos,neg)\n",
        "pos= 0\n",
        "neg= 0\n",
        "for i in range(len(y)):\n",
        "    if y[i] == 0:\n",
        "        neg+= 1\n",
        "    else:\n",
        "        pos+= 1\n",
        "print(pos,neg)"
      ]
    },
    {
      "cell_type": "code",
      "execution_count": 5,
      "id": "99bd408e-3f60-4187-a4df-4496d5f9d7c0",
      "metadata": {
        "id": "99bd408e-3f60-4187-a4df-4496d5f9d7c0"
      },
      "outputs": [],
      "source": [
        "def relu(x):\n",
        "    return x * (x > 0)\n",
        "\n",
        "def softmax(x):\n",
        "    assert len(x.shape) == 1\n",
        "    m= np.max(x)\n",
        "    ex= np.exp(x - m)\n",
        "    d= np.sum(ex)\n",
        "    return ex/d"
      ]
    },
    {
      "cell_type": "code",
      "execution_count": 10,
      "id": "6b51e568",
      "metadata": {
        "id": "6b51e568"
      },
      "outputs": [],
      "source": [
        "def forward(x,W1,b1,W2):\n",
        "    h1= np.dot(W1,x) + b1\n",
        "    a1= relu(h1)\n",
        "    h2= np.dot(W2,a1)\n",
        "    a2= softmax(h2)\n",
        "    return a1,a2\n",
        "\n",
        "def backprop(x,W2,a1,a2,t):\n",
        "    dh2= np.copy(a2)\n",
        "    dh2[t]-= 1\n",
        "    dW2= np.outer(dh2,a1)\n",
        "    da1= np.dot(W2.transpose(),dh2)\n",
        "    dh1= da1 * (a1 > 0)\n",
        "    dW1= np.outer(dh1,x)\n",
        "    db1= dh1\n",
        "    return dW1, db1, dW2\n",
        "\n",
        "def loss(X,W1,b1,W2,Y):\n",
        "    loss= 0.0\n",
        "    for i in range(len(X)):\n",
        "        _,a2= forward(X[i],W1,b1,W2)\n",
        "        if a2[Y[i]] != 0:\n",
        "            loss+= -np.log(a2[Y[i]])\n",
        "    return loss\n",
        "\n",
        "def update(X,W1,b1,W2,Y,eta=0.001):\n",
        "    for i in range(len(X)):\n",
        "        a1, a2= forward(X[i],W1,b1,W2)\n",
        "        dW1, db1, dW2= backprop(X[i],W2,a1,a2,Y[i])\n",
        "        W1-= eta*dW1\n",
        "        b1-= eta*db1\n",
        "        W2-= eta*dW2\n",
        "    return W1,b1,W2"
      ]
    },
    {
      "cell_type": "code",
      "execution_count": 11,
      "id": "32bc6a31",
      "metadata": {
        "colab": {
          "base_uri": "https://localhost:8080/"
        },
        "id": "32bc6a31",
        "outputId": "64a17e00-d01c-4f14-f324-eeb54e28f0a3"
      },
      "outputs": [
        {
          "output_type": "stream",
          "name": "stdout",
          "text": [
            "1. 51447.03760126399\n",
            "2. 37130.84187937523\n",
            "3. 32556.766011931188\n",
            "4. 30612.479422237306\n",
            "5. 29519.81205818228\n",
            "6. 28504.77664747426\n",
            "7. 27104.85645632311\n",
            "8. 26075.379423694965\n",
            "9. 25129.362240600436\n",
            "10. 24096.07781131435\n"
          ]
        }
      ],
      "source": [
        "#2-layer network\n",
        "import random\n",
        "import numpy as np\n",
        "dim1= 128\n",
        "dim2= 2\n",
        "\n",
        "nds= np.array(ds)\n",
        "W1= np.array([[random.uniform(-1,1) for _ in range(len(ds[0]))] for _ in range(dim1)])\n",
        "b1= np.array([random.uniform(-1,1) for _ in range(dim1)])\n",
        "W2= np.array([[random.uniform(-1,1) for _ in range(dim1)] for _ in range(dim2)])\n",
        "Y= np.array(y)\n",
        "epochs= 10\n",
        "for i in range(epochs):\n",
        "    W1, b1, W2= update(nds,W1,b1,W2,Y)\n",
        "    print(f\"{i+1}.\",loss(nds,W1,b1,W2,Y))"
      ]
    },
    {
      "cell_type": "code",
      "execution_count": 12,
      "id": "a4db9173",
      "metadata": {
        "id": "a4db9173"
      },
      "outputs": [],
      "source": [
        "#Modify this cell to accommodate a 3-layer network\n",
        "def forward(x,W1,b1,W2,b2,W3):\n",
        "    h1= np.dot(W1,x) + b1\n",
        "    a1= relu(h1)\n",
        "    h2= np.dot(W2,a1) + b2\n",
        "    a2= relu(h2)\n",
        "    h3= np.dot(W3,a2)\n",
        "    a3= softmax(h3)\n",
        "    return a1,a2,a3\n",
        "\n",
        "def backprop(x,W3,a1,a2,a3,t):\n",
        "    dh3= np.copy(a3)\n",
        "    dh3[t]-= 1\n",
        "    dW3= np.outer(dh3,a2)\n",
        "    da2= np.dot(W3.transpose(),dh3)\n",
        "    dh2= da2 * (a2 > 0)\n",
        "    dW2= np.outer(dh2,a1)\n",
        "    da1= np.dot(W2.transpose(),dh2)\n",
        "    dh1= da1 * (a1 > 0)\n",
        "    dW1= np.outer(dh1,x)\n",
        "    db1= dh1\n",
        "    db2= dh2\n",
        "    return dW1, db1, dW2, db2, dW3\n",
        "\n",
        "def loss(X,W1,b1,W2,b2,W3,Y):\n",
        "    loss= 0.0\n",
        "    for i in range(len(X)):\n",
        "        _,_,a3= forward(X[i],W1,b1,W2,b2,W3)\n",
        "        if a3[Y[i]] != 0:\n",
        "            loss+= -np.log(a3[Y[i]])\n",
        "    return loss\n",
        "\n",
        "def update(X,W1,b1,W2,b2,W3,Y,eta=0.001):\n",
        "    for i in range(len(X)):\n",
        "        a1, a2, a3= forward(X[i],W1,b1,W2,b2,W3)\n",
        "        dW1,db1,dW2,db2,dW3 = backprop(X[i],W3,a1,a2,a3,Y[i])\n",
        "        W1-= eta*dW1\n",
        "        b1-= eta*db1\n",
        "        W2-= eta*dW2\n",
        "        b2-= eta*db2\n",
        "        W3-= eta*dW3\n",
        "    return W1,b1,W2,b2,W3"
      ]
    },
    {
      "cell_type": "code",
      "execution_count": 13,
      "id": "b3d5e3af-428c-4553-868d-c20f55df43fb",
      "metadata": {
        "colab": {
          "base_uri": "https://localhost:8080/"
        },
        "id": "b3d5e3af-428c-4553-868d-c20f55df43fb",
        "outputId": "55b5e486-1821-4b27-f079-a0333fd803dd"
      },
      "outputs": [
        {
          "output_type": "stream",
          "name": "stdout",
          "text": [
            "1. 184561.4780902582\n",
            "2. 119433.08208515035\n",
            "3. 137894.77728159045\n",
            "4. 58126.630052914195\n",
            "5. 90914.15892033698\n",
            "6. 48283.62987430061\n",
            "7. 37532.36809514522\n",
            "8. 32117.2146423426\n",
            "9. 28735.948754701192\n",
            "10. 27397.960294909873\n"
          ]
        }
      ],
      "source": [
        "#Modify this cell to create a 3-layer network\n",
        "import random\n",
        "import numpy as np\n",
        "dim1= 128\n",
        "dim2= 32\n",
        "dim3= 2\n",
        "\n",
        "nds= np.array(ds)\n",
        "W1= np.array([[random.uniform(-1,1) for _ in range(len(ds[0]))] for _ in range(dim1)])\n",
        "b1= np.array([random.uniform(-1,1) for _ in range(dim1)])\n",
        "W2= np.array([[random.uniform(-1,1) for _ in range(dim1)] for _ in range(dim2)])\n",
        "b2= np.array([random.uniform(-1,1) for _ in range(dim2)])\n",
        "W3= np.array([[random.uniform(-1,1) for _ in range(dim2)] for _ in range(dim3)])\n",
        "Y= np.array(y)\n",
        "epochs= 10\n",
        "for i in range(epochs):\n",
        "    W1, b1, W2, b2, W3= update(nds,W1,b1,W2,b2,W3,Y)\n",
        "    print(f\"{i+1}.\",loss(nds,W1,b1,W2,b2,W3,Y))"
      ]
    },
    {
      "cell_type": "code",
      "source": [],
      "metadata": {
        "id": "w7w5-pdamHod"
      },
      "id": "w7w5-pdamHod",
      "execution_count": null,
      "outputs": []
    }
  ],
  "metadata": {
    "kernelspec": {
      "display_name": "Python 3 (ipykernel)",
      "language": "python",
      "name": "python3"
    },
    "language_info": {
      "codemirror_mode": {
        "name": "ipython",
        "version": 3
      },
      "file_extension": ".py",
      "mimetype": "text/x-python",
      "name": "python",
      "nbconvert_exporter": "python",
      "pygments_lexer": "ipython3",
      "version": "3.12.3"
    },
    "colab": {
      "provenance": []
    }
  },
  "nbformat": 4,
  "nbformat_minor": 5
}