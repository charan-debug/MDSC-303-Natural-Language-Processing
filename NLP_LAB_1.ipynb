{
  "nbformat": 4,
  "nbformat_minor": 0,
  "metadata": {
    "colab": {
      "provenance": []
    },
    "kernelspec": {
      "name": "python3",
      "display_name": "Python 3"
    },
    "language_info": {
      "name": "python"
    }
  },
  "cells": [
    {
      "cell_type": "markdown",
      "source": [
        "Minimum Edit Distance Algorithm"
      ],
      "metadata": {
        "id": "_ndZmsYY-oYD"
      }
    },
    {
      "cell_type": "code",
      "source": [
        "#finding min edit distnce between 2 strings\n",
        "def min_edit_dist(s,t):\n",
        "  n= len(s)\n",
        "  m= len(t)\n",
        "  d = [[0] * (m + 1) for _ in range(n + 1)]\n",
        "  d[0][0]=0\n",
        "  for i in range(1,n+1):\n",
        "    d[i][0]=d[i-1][0] + 1  #delete\n",
        "\n",
        "  for j in range(1,m+1):\n",
        "    d[0][j]=d[0][j-1] +1 #insert\n",
        "\n",
        "  for i in range(1,n+1):\n",
        "    for j in range(1,m+1):\n",
        "      if s[i-1]==t[j-1]:\n",
        "        sub_cost = 0\n",
        "      else:\n",
        "        sub_cost = 2\n",
        "\n",
        "      d[i][j] = min(d[i-1][j] + 1,     # Deletion cost\n",
        "                    d[i][j-1] + 1,     # Insertion cost\n",
        "                    d[i-1][j-1] + sub_cost)  # Substitution cost\n",
        "\n",
        "  return d[n][m]"
      ],
      "metadata": {
        "id": "9ywKDexh6gSB"
      },
      "execution_count": 31,
      "outputs": []
    },
    {
      "cell_type": "code",
      "source": [
        "source_word = input(\"Enter the source word: \")\n",
        "target_word = input(\"Enter the target word: \")\n",
        "distance = min_edit_dist(source_word,target_word)\n",
        "\n",
        "print(f\"The minimum edit distance between '{source_word}' and '{target_word}' is {distance}.\")\n"
      ],
      "metadata": {
        "colab": {
          "base_uri": "https://localhost:8080/"
        },
        "id": "FiCnLu3N4vAJ",
        "outputId": "a6ccca1f-ef3d-419f-8afc-9df1a86c66d2"
      },
      "execution_count": 32,
      "outputs": [
        {
          "output_type": "stream",
          "name": "stdout",
          "text": [
            "Enter the source word: man\n",
            "Enter the target word: pain\n",
            "The minimum edit distance between 'man' and 'pain' is 3.\n"
          ]
        }
      ]
    }
  ]
}